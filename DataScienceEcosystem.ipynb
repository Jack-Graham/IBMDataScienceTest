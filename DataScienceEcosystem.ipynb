{
 "cells": [
  {
   "cell_type": "markdown",
   "id": "679b8756-57c8-4b3e-94d5-e101f752469c",
   "metadata": {},
   "source": [
    "# Data Science Tools and Ecosystem"
   ]
  },
  {
   "cell_type": "markdown",
   "id": "c6908ebf-641b-47d5-96c3-31f9347dcfbe",
   "metadata": {},
   "source": [
    "## Author\n",
    "Jack Graham"
   ]
  },
  {
   "cell_type": "markdown",
   "id": "101c651f-109b-4fd0-9a45-20831338a054",
   "metadata": {},
   "source": [
    "In this notebook, Data Science Tools and Ecosystem are summarized."
   ]
  },
  {
   "cell_type": "markdown",
   "id": "2364e867-6a35-40a4-9c5f-2a72a6ae7e14",
   "metadata": {},
   "source": [
    "**Objectives: \n",
    "- DS Tools\n",
    "- DS Libraries\n",
    "- Arithmetic code"
   ]
  },
  {
   "cell_type": "markdown",
   "id": "79d80a6b-e1f0-4266-8e00-8c6c1581d947",
   "metadata": {},
   "source": [
    "Some of the popular tools Data Scientists use are:\n",
    "1. Python\n",
    "2. Julia\n",
    "3. R"
   ]
  },
  {
   "cell_type": "markdown",
   "id": "f4a6facb-2e4a-4e4d-9fdf-836595fb79d6",
   "metadata": {},
   "source": [
    "Some of the commonly used libraries used by Data Scientists are:\n",
    "1. Pandas\n",
    "2. NumPy\n",
    "3. Matplotlib"
   ]
  },
  {
   "cell_type": "markdown",
   "id": "84f3af03-6fe7-4d97-b7fc-ecc700aa7fc2",
   "metadata": {
    "tags": []
   },
   "source": [
    "| Data Science Tools       |\n",
    "|--------------------------|\n",
    "| 1. Jupyter Notebook      |\n",
    "| 2. RStudio               |\n",
    "| 3. Visual Studio Code    |"
   ]
  },
  {
   "cell_type": "markdown",
   "id": "98ce0c23-86ee-42ec-a303-caa02b327e0d",
   "metadata": {
    "tags": []
   },
   "source": [
    "### Below are a few examples of evaluating arithmetic expressions in Python. \n"
   ]
  },
  {
   "cell_type": "code",
   "execution_count": 15,
   "id": "2339aca6-22ae-47f6-b9be-6f57397a6573",
   "metadata": {
    "tags": []
   },
   "outputs": [
    {
     "data": {
      "text/plain": [
       "17"
      ]
     },
     "execution_count": 15,
     "metadata": {},
     "output_type": "execute_result"
    }
   ],
   "source": [
    "#This a simple arithmetic expression to mutiply then add integers\n",
    "(3*4)+5"
   ]
  },
  {
   "cell_type": "code",
   "execution_count": 17,
   "id": "d30ed3d7-b6f2-4051-be0b-f84e9c63c2a5",
   "metadata": {
    "tags": []
   },
   "outputs": [
    {
     "data": {
      "text/plain": [
       "3.3333333333333335"
      ]
     },
     "execution_count": 17,
     "metadata": {},
     "output_type": "execute_result"
    }
   ],
   "source": [
    "#this will convert 200 minutes to hours by dividing by 60\n",
    "200 / 60"
   ]
  },
  {
   "cell_type": "code",
   "execution_count": null,
   "id": "35bb8872-a634-4551-9fed-8b9b3774cd8f",
   "metadata": {},
   "outputs": [],
   "source": []
  }
 ],
 "metadata": {
  "kernelspec": {
   "display_name": "Python 3 (ipykernel)",
   "language": "python",
   "name": "python3"
  },
  "language_info": {
   "codemirror_mode": {
    "name": "ipython",
    "version": 3
   },
   "file_extension": ".py",
   "mimetype": "text/x-python",
   "name": "python",
   "nbconvert_exporter": "python",
   "pygments_lexer": "ipython3",
   "version": "3.11.7"
  }
 },
 "nbformat": 4,
 "nbformat_minor": 5
}
